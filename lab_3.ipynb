{
 "cells": [
  {
   "cell_type": "markdown",
   "id": "1534dc4d",
   "metadata": {},
   "source": [
    "## Решение"
   ]
  },
  {
   "cell_type": "code",
   "execution_count": 9,
   "id": "b3b16f26",
   "metadata": {},
   "outputs": [
    {
     "name": "stdout",
     "output_type": "stream",
     "text": [
      "B1: 3p1 + 1\n",
      "B2: -1p1 + 4\n",
      "B3: -3p1 + 5\n",
      "B4: -6p1 + 8\n",
      "N = [0.6666666666666666,3.0]\n",
      "f(1,q*) = 2q1* + 2\n",
      "f(3,q*) = -4q1* + 2\n",
      "q1* = 0.5\n",
      "q2* = 0.5\n",
      "\n",
      "Ответ:\n",
      "p* = [0.6666666666666666,0.33333333333333337]\n",
      "q* = [0.5, 0, 0.5, 0]\n",
      "v = 3.0\n"
     ]
    }
   ],
   "source": [
    "import matplotlib\n",
    "matplotlib.use('TkAgg')\n",
    "import matplotlib.pyplot as plt\n",
    "  \n",
    "#Вариант 13\n",
    "\n",
    "data = [[4,3,2,2],\n",
    "        [1,4,5,8]]\n",
    "\n",
    "new_x1 = data[0][0] - data[1][0]\n",
    "f1 = [new_x1, data[1][0]]\n",
    "x1 = [0,1]\n",
    "y1 = [data[1][0], new_x1 + data[1][0]]\n",
    "print(f'B1: {new_x1}p1 + {data[1][0]}')\n",
    "\n",
    "new_x2 = data[0][1] - data[1][1]\n",
    "f2 = [new_x2, data[1][1]]\n",
    "x2 = [0,1]\n",
    "y2 = [data[1][1], new_x2 + data[1][1]]\n",
    "print(f'B2: {new_x2}p1 + {data[1][1]}')\n",
    "\n",
    "new_x3 = data[0][2] - data[1][2]\n",
    "f3 = [new_x3, data[1][2]]\n",
    "x3 = [0,1]\n",
    "y3 = [data[1][2], new_x3 + data[1][2]]\n",
    "print(f'B3: {new_x3}p1 + {data[1][2]}')\n",
    "\n",
    "new_x4 = data[0][3] - data[1][3]\n",
    "f4 = [new_x4, data[1][3]]\n",
    "x4 = [0,1]\n",
    "y4 = [data[1][3], new_x4 + data[1][3]]\n",
    "print(f'B4: {new_x4}p1 + {data[1][3]}')\n",
    "\n",
    "x_N = (data[1][2] - data[1][0]) / (new_x1 - new_x3)\n",
    "y_N = new_x1 * x_N + data[1][0]\n",
    "print(f'N = [{x_N},{y_N}]')\n",
    "\n",
    "print(f'f(1,q*) = {data[0][0] - data[0][2]}q1* + {data[0][2]}')\n",
    "print(f'f(3,q*) = {data[1][0] - data[1][2]}q1* + {data[0][2]}')\n",
    "q1 = (data[1][2] - data[0][2]) / ((data[0][0] - data[0][2]) - (data[1][0] - data[1][2]))\n",
    "q2 = 1 - q1\n",
    "print(f'q1* = {q1}\\n'\n",
    "      f'q2* = {q2}')\n",
    "\n",
    "print('\\nОтвет:\\n'\n",
    "      f'p* = [{x_N},{1 - x_N}]\\n'\n",
    "      f'q* = [{q1}, 0, {q2}, 0]\\n'\n",
    "      f'v = {y_N}')\n",
    "\n",
    "plt.plot(x1, y1, color='green')\n",
    "plt.plot(x2, y2, color='blue')\n",
    "plt.plot(x3, y3, color='red')\n",
    "plt.plot(x4, y4, color='orange')\n",
    "plt.scatter(x_N, y_N, color='black', marker='o')\n",
    "plt.text(0,1.3, 'B1', fontsize=14, color='green')\n",
    "plt.text(0,3.5, 'B2', fontsize=14, color='blue')\n",
    "plt.text(0,5.3, 'B3', fontsize=14, color='red')\n",
    "plt.text(0,7.3, 'B4', fontsize=14, color='orange')\n",
    "plt.text(0.65,2.3, 'N', fontsize=14, color='black')\n",
    "plt.grid(True)\n",
    "plt.show()\n"
   ]
  },
  {
   "cell_type": "markdown",
   "id": "f8f744fc",
   "metadata": {},
   "source": [
    "### Имитационная модель"
   ]
  },
  {
   "cell_type": "code",
   "execution_count": 10,
   "id": "efbc662c",
   "metadata": {},
   "outputs": [
    {
     "name": "stdout",
     "output_type": "stream",
     "text": [
      "Введите количество раундов: 10000\n"
     ]
    }
   ],
   "source": [
    "N = int(input('Введите количество раундов: '))"
   ]
  },
  {
   "cell_type": "code",
   "execution_count": 11,
   "id": "080fb117",
   "metadata": {},
   "outputs": [
    {
     "name": "stdout",
     "output_type": "stream",
     "text": [
      "[1 2 2 1 1 1 1 1 2 1]\n"
     ]
    }
   ],
   "source": [
    "import numpy as np\n",
    "from prettytable import PrettyTable\n",
    "\n",
    "probabilities_p = [2/3, 1/3]\n",
    "random_p = np.random.choice([1, 2], size=N, p=probabilities_p)\n",
    "\n",
    "# Вывод первых 10 элементов массива \n",
    "print(random_p[:10])\n"
   ]
  },
  {
   "cell_type": "code",
   "execution_count": 13,
   "id": "54d16f88",
   "metadata": {},
   "outputs": [
    {
     "name": "stdout",
     "output_type": "stream",
     "text": [
      "[1 3 3 3 1 3 1 1 3 3]\n"
     ]
    }
   ],
   "source": [
    "probabilities_q = [1/2, 0, 1/2, 0]\n",
    "random_q = np.random.choice([1, 2, 3, 4], size=N, p=probabilities_q)\n",
    "\n",
    "# Вывод первых 10 элементов массива \n",
    "print(random_q[:10])"
   ]
  },
  {
   "cell_type": "code",
   "execution_count": 12,
   "id": "a477350d",
   "metadata": {},
   "outputs": [],
   "source": [
    "def game_round(p, q, n=0):\n",
    "    table = PrettyTable()\n",
    "    table.field_names = [\"\", \"B1\", \"B2\", \"B3\", \"B4\"]\n",
    "\n",
    "    # Добавление данных в таблицу\n",
    "    A = [[4, 3, 2, 2], [1, 4, 5, 8]]\n",
    "    table.add_row([\"A1\"] + A[0])\n",
    "    table.add_row([\"A2\"] + A[1])\n",
    "    \n",
    "    if n != 0:\n",
    "        print(table)\n",
    "        print(f'p = {p}, q = {q}, a = {A[p-1][q-1]}')\n",
    "    \n",
    "    return A[p-1][q-1]\n",
    "                \n",
    "    "
   ]
  },
  {
   "cell_type": "code",
   "execution_count": 14,
   "id": "1c3d6510",
   "metadata": {},
   "outputs": [
    {
     "name": "stdout",
     "output_type": "stream",
     "text": [
      "Введите демонстрационный шаг: 6\n"
     ]
    }
   ],
   "source": [
    "n = int(input('Введите демонстрационный шаг: '))"
   ]
  },
  {
   "cell_type": "code",
   "execution_count": 15,
   "id": "5f2dada9",
   "metadata": {},
   "outputs": [
    {
     "name": "stdout",
     "output_type": "stream",
     "text": [
      "+----+----+----+----+----+\n",
      "|    | B1 | B2 | B3 | B4 |\n",
      "+----+----+----+----+----+\n",
      "| A1 | 4  | 3  | 2  | 2  |\n",
      "| A2 | 1  | 4  | 5  | 8  |\n",
      "+----+----+----+----+----+\n",
      "p = 1, q = 3, a = 2\n"
     ]
    }
   ],
   "source": [
    "result = game_round(random_p[n-1], random_q[n-1], n)"
   ]
  },
  {
   "cell_type": "code",
   "execution_count": 16,
   "id": "2fafe67e",
   "metadata": {},
   "outputs": [],
   "source": [
    "result = []\n",
    "\n",
    "for i in range(N):\n",
    "    p = random_p[i]\n",
    "    q = random_q[i]\n",
    "        \n",
    "    a = game_round(p, q)\n",
    "    result.append(a)"
   ]
  },
  {
   "cell_type": "code",
   "execution_count": 17,
   "id": "fe3e55ab",
   "metadata": {},
   "outputs": [
    {
     "name": "stdout",
     "output_type": "stream",
     "text": [
      "Цена игры: 3.01\n"
     ]
    }
   ],
   "source": [
    "print(f'Цена игры: {round(sum(result)/N, 2)}')"
   ]
  },
  {
   "cell_type": "markdown",
   "id": "b550932b",
   "metadata": {},
   "source": [
    "#### Изменим вероятности "
   ]
  },
  {
   "cell_type": "code",
   "execution_count": 18,
   "id": "5c54cb06",
   "metadata": {},
   "outputs": [
    {
     "name": "stdout",
     "output_type": "stream",
     "text": [
      "Введите количество варинтов вероятностей: 15\n"
     ]
    }
   ],
   "source": [
    "m = int(input('Введите количество варинтов вероятностей: '))"
   ]
  },
  {
   "cell_type": "code",
   "execution_count": 19,
   "id": "f65a1684",
   "metadata": {},
   "outputs": [],
   "source": [
    "p_variants = np.random.rand(m)"
   ]
  },
  {
   "cell_type": "code",
   "execution_count": 20,
   "id": "5d6d7785",
   "metadata": {},
   "outputs": [
    {
     "data": {
      "text/plain": [
       "array([0.01930471, 0.10591569, 0.10916904, 0.23320987, 0.2439421 ,\n",
       "       0.26717492, 0.46659059, 0.56167347, 0.58127208, 0.67240268,\n",
       "       0.71153475, 0.76456487, 0.85929149, 0.88083881, 0.92046704])"
      ]
     },
     "execution_count": 20,
     "metadata": {},
     "output_type": "execute_result"
    }
   ],
   "source": [
    "p_variants = np.sort(p_variants)\n",
    "p_variants"
   ]
  },
  {
   "cell_type": "code",
   "execution_count": 21,
   "id": "cc921f0a",
   "metadata": {},
   "outputs": [],
   "source": [
    "def game(pv, qv):\n",
    "    random_p1 = np.random.choice([1, 2], size=N, p=pv)\n",
    "    random_q1 = np.random.choice([1, 2, 3, 4], size=N, p=qv)\n",
    "                                 \n",
    "    result = []\n",
    "    for i in range(N):\n",
    "        pv = random_p1[i]\n",
    "        qv = random_q1[i]\n",
    "\n",
    "        a = game_round(pv, qv)\n",
    "        result.append(a)\n",
    "        \n",
    "    return round(sum(result)/N, 2)\n",
    "    "
   ]
  },
  {
   "cell_type": "code",
   "execution_count": 22,
   "id": "f51c55ae",
   "metadata": {},
   "outputs": [
    {
     "name": "stdout",
     "output_type": "stream",
     "text": [
      "p = [0.019304707076376215, 0.9806952929236238]  Цена игры: 3.0\n",
      "p = [0.1059156873927165, 0.8940843126072835]  Цена игры: 3.0\n",
      "p = [0.10916904348705836, 0.8908309565129416]  Цена игры: 2.99\n",
      "p = [0.23320987008926541, 0.7667901299107346]  Цена игры: 2.99\n",
      "p = [0.24394209583927107, 0.7560579041607289]  Цена игры: 3.02\n",
      "p = [0.2671749218884416, 0.7328250781115584]  Цена игры: 3.01\n",
      "p = [0.4665905880644188, 0.5334094119355812]  Цена игры: 3.02\n",
      "p = [0.5616734682385903, 0.4383265317614097]  Цена игры: 2.99\n",
      "p = [0.5812720783538857, 0.4187279216461143]  Цена игры: 2.98\n",
      "p = [0.6724026842375667, 0.32759731576243334]  Цена игры: 3.0\n",
      "p = [0.7115347546793006, 0.2884652453206994]  Цена игры: 2.98\n",
      "p = [0.7645648665289785, 0.23543513347102152]  Цена игры: 3.0\n",
      "p = [0.8592914938165155, 0.14070850618348452]  Цена игры: 3.0\n",
      "p = [0.8808388053257905, 0.11916119467420949]  Цена игры: 3.0\n",
      "p = [0.9204670438891219, 0.07953295611087807]  Цена игры: 3.0\n"
     ]
    }
   ],
   "source": [
    "for i in range(m):\n",
    "    pv = [p_variants[i], 1 - p_variants[i]]\n",
    "    qv = [1/2, 0, 1/2, 0]\n",
    "    print(f'p = {pv}  Цена игры: {game(pv, qv)}')\n",
    "\n",
    "    "
   ]
  },
  {
   "cell_type": "code",
   "execution_count": 23,
   "id": "ceb9d4e4",
   "metadata": {},
   "outputs": [],
   "source": [
    "q_variants = np.random.rand(m)"
   ]
  },
  {
   "cell_type": "code",
   "execution_count": 24,
   "id": "210969da",
   "metadata": {},
   "outputs": [
    {
     "data": {
      "text/plain": [
       "array([0.02052687, 0.0263429 , 0.09345433, 0.13320073, 0.1609249 ,\n",
       "       0.17747145, 0.20100748, 0.22926843, 0.32187201, 0.48490105,\n",
       "       0.57719751, 0.62406379, 0.77293298, 0.89893401, 0.99884706])"
      ]
     },
     "execution_count": 24,
     "metadata": {},
     "output_type": "execute_result"
    }
   ],
   "source": [
    "q_variants = np.sort(q_variants)\n",
    "q_variants"
   ]
  },
  {
   "cell_type": "code",
   "execution_count": 25,
   "id": "00f5a875",
   "metadata": {},
   "outputs": [
    {
     "name": "stdout",
     "output_type": "stream",
     "text": [
      "q = [0.02052686674998161, 0, 0.9794731332500184, 0] Цена игры: 2.99\n",
      "q = [0.026342903119040972, 0, 0.973657096880959, 0] Цена игры: 3.01\n",
      "q = [0.09345432924696195, 0, 0.906545670753038, 0] Цена игры: 2.98\n",
      "q = [0.13320072980158482, 0, 0.8667992701984152, 0] Цена игры: 2.99\n",
      "q = [0.16092489610058147, 0, 0.8390751038994185, 0] Цена игры: 2.99\n",
      "q = [0.1774714527791016, 0, 0.8225285472208984, 0] Цена игры: 3.02\n",
      "q = [0.20100747835659916, 0, 0.7989925216434008, 0] Цена игры: 3.0\n",
      "q = [0.22926843162850796, 0, 0.770731568371492, 0] Цена игры: 3.01\n",
      "q = [0.32187200871215804, 0, 0.678127991287842, 0] Цена игры: 3.02\n",
      "q = [0.4849010526729114, 0, 0.5150989473270886, 0] Цена игры: 3.02\n",
      "q = [0.5771975062337289, 0, 0.4228024937662711, 0] Цена игры: 3.01\n",
      "q = [0.6240637882071575, 0, 0.37593621179284253, 0] Цена игры: 3.02\n",
      "q = [0.7729329829475535, 0, 0.22706701705244647, 0] Цена игры: 3.02\n",
      "q = [0.8989340144655685, 0, 0.10106598553443147, 0] Цена игры: 2.97\n",
      "q = [0.9988470585951489, 0, 0.0011529414048511155, 0] Цена игры: 3.0\n"
     ]
    }
   ],
   "source": [
    "for i in range(m):\n",
    "    pv = [2/3, 1/3]\n",
    "    qv = [q_variants[i], 0, 1 - q_variants[i], 0]\n",
    "    print(f'q = {qv} Цена игры: {game(pv, qv)}')\n"
   ]
  },
  {
   "cell_type": "code",
   "execution_count": 26,
   "id": "8d9b6c86",
   "metadata": {},
   "outputs": [
    {
     "name": "stdout",
     "output_type": "stream",
     "text": [
      "q = [0.26332301 0.2379518  0.33806146 0.16066373] Цена игры: 3.25\n",
      "q = [0.53752933 0.21071367 0.01638684 0.23537017] Цена игры: 3.29\n",
      "q = [0.28621878 0.2945441  0.24174178 0.17749534] Цена игры: 3.27\n",
      "q = [0.45289189 0.22584693 0.24481747 0.07644371] Цена игры: 3.15\n",
      "q = [0.20767737 0.45443405 0.12268496 0.21520362] Цена игры: 3.37\n",
      "q = [0.10067688 0.08259782 0.63054543 0.18617987] Цена игры: 3.19\n",
      "q = [0.02545298 0.47566282 0.12996272 0.36892148] Цена игры: 3.5\n",
      "q = [0.33773368 0.25332334 0.23413659 0.17480639] Цена игры: 3.27\n",
      "q = [0.25748297 0.22630493 0.31597981 0.20023229] Цена игры: 3.28\n",
      "q = [0.30707739 0.26581987 0.24197831 0.18512444] Цена игры: 3.27\n",
      "q = [0.45843866 0.14885896 0.03153512 0.36116726] Цена игры: 3.45\n",
      "q = [0.31784026 0.14049054 0.32276143 0.21890778] Цена игры: 3.28\n",
      "q = [0.33010223 0.3152108  0.15799061 0.19669636] Цена игры: 3.31\n",
      "q = [0.24199314 0.0461601  0.31605516 0.3957916 ] Цена игры: 3.44\n",
      "q = [0.26510555 0.30392109 0.39109704 0.03987633] Цена игры: 3.14\n"
     ]
    }
   ],
   "source": [
    "q_variants = []\n",
    "\n",
    "for _ in range(m):\n",
    "    random_numbers = np.random.rand(4)\n",
    "    \n",
    "    # Нормируем массив, чтобы сумма была равна 1\n",
    "    normalized_numbers = random_numbers / np.sum(random_numbers)\n",
    "    \n",
    "    if np.all(normalized_numbers > 0):\n",
    "        q_variants.append(normalized_numbers)\n",
    "\n",
    "        \n",
    "for i in range(m):\n",
    "    pv = [2/3, 1/3]\n",
    "    qv = q_variants[i]\n",
    "    print(f'q = {qv} Цена игры: {game(pv, qv)}')\n"
   ]
  },
  {
   "cell_type": "code",
   "execution_count": null,
   "id": "b6e2d111",
   "metadata": {},
   "outputs": [],
   "source": []
  },
  {
   "cell_type": "markdown",
   "id": "62c0ece5",
   "metadata": {},
   "source": [
    "### Вывод:"
   ]
  },
  {
   "cell_type": "markdown",
   "id": "0120f9d5",
   "metadata": {},
   "source": [
    "При играх в рамках активных оптимальных стратегий игроков цена игры меняется не существенно. При выборе иных стратегий цена игры существенно изменяется."
   ]
  }
 ],
 "metadata": {
  "kernelspec": {
   "display_name": "Python 3 (ipykernel)",
   "language": "python",
   "name": "python3"
  },
  "language_info": {
   "codemirror_mode": {
    "name": "ipython",
    "version": 3
   },
   "file_extension": ".py",
   "mimetype": "text/x-python",
   "name": "python",
   "nbconvert_exporter": "python",
   "pygments_lexer": "ipython3",
   "version": "3.9.13"
  }
 },
 "nbformat": 4,
 "nbformat_minor": 5
}
