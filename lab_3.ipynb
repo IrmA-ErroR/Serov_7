{
 "cells": [
  {
   "cell_type": "markdown",
   "id": "1534dc4d",
   "metadata": {},
   "source": [
    "## Решение"
   ]
  },
  {
   "cell_type": "code",
   "execution_count": 2,
   "id": "b3b16f26",
   "metadata": {},
   "outputs": [
    {
     "name": "stdout",
     "output_type": "stream",
     "text": [
      "B1: 3p1 + 1\n",
      "B2: -1p1 + 4\n",
      "B3: -3p1 + 5\n",
      "B4: -6p1 + 8\n",
      "N = [0.6666666666666666,3.0]\n",
      "f(1,q*) = 2q1* + 2\n",
      "f(3,q*) = -4q1* + 2\n",
      "q1* = 0.5\n",
      "q2* = 0.5\n",
      "\n",
      "Ответ:\n",
      "p* = [0.6666666666666666,0.33333333333333337]\n",
      "q* = [0.5, 0, 0.5, 0]\n",
      "v = 3.0\n"
     ]
    }
   ],
   "source": [
    "import matplotlib\n",
    "matplotlib.use('TkAgg')\n",
    "import matplotlib.pyplot as plt\n",
    "  \n",
    "#Вариант 13\n",
    "\n",
    "data = [[4,3,2,2],\n",
    "        [1,4,5,8]]\n",
    "\n",
    "new_x1 = data[0][0] - data[1][0]\n",
    "f1 = [new_x1, data[1][0]]\n",
    "x1 = [0,1]\n",
    "y1 = [data[1][0], new_x1 + data[1][0]]\n",
    "print(f'B1: {new_x1}p1 + {data[1][0]}')\n",
    "\n",
    "new_x2 = data[0][1] - data[1][1]\n",
    "f2 = [new_x2, data[1][1]]\n",
    "x2 = [0,1]\n",
    "y2 = [data[1][1], new_x2 + data[1][1]]\n",
    "print(f'B2: {new_x2}p1 + {data[1][1]}')\n",
    "\n",
    "new_x3 = data[0][2] - data[1][2]\n",
    "f3 = [new_x3, data[1][2]]\n",
    "x3 = [0,1]\n",
    "y3 = [data[1][2], new_x3 + data[1][2]]\n",
    "print(f'B3: {new_x3}p1 + {data[1][2]}')\n",
    "\n",
    "new_x4 = data[0][3] - data[1][3]\n",
    "f4 = [new_x4, data[1][3]]\n",
    "x4 = [0,1]\n",
    "y4 = [data[1][3], new_x4 + data[1][3]]\n",
    "print(f'B4: {new_x4}p1 + {data[1][3]}')\n",
    "\n",
    "x_N = (data[1][2] - data[1][0]) / (new_x1 - new_x3)\n",
    "y_N = new_x1 * x_N + data[1][0]\n",
    "print(f'N = [{x_N},{y_N}]')\n",
    "\n",
    "print(f'f(1,q*) = {data[0][0] - data[0][2]}q1* + {data[0][2]}')\n",
    "print(f'f(3,q*) = {data[1][0] - data[1][2]}q1* + {data[0][2]}')\n",
    "q1 = (data[1][2] - data[0][2]) / ((data[0][0] - data[0][2]) - (data[1][0] - data[1][2]))\n",
    "q2 = 1 - q1\n",
    "print(f'q1* = {q1}\\n'\n",
    "      f'q2* = {q2}')\n",
    "\n",
    "print('\\nОтвет:\\n'\n",
    "      f'p* = [{x_N},{1 - x_N}]\\n'\n",
    "      f'q* = [{q1}, 0, {q2}, 0]\\n'\n",
    "      f'v = {y_N}')\n",
    "\n",
    "plt.plot(x1, y1, color='green')\n",
    "plt.plot(x2, y2, color='blue')\n",
    "plt.plot(x3, y3, color='red')\n",
    "plt.plot(x4, y4, color='orange')\n",
    "plt.scatter(x_N, y_N, color='black', marker='o')\n",
    "plt.text(0,1.3, 'B1', fontsize=14, color='green')\n",
    "plt.text(0,3.5, 'B2', fontsize=14, color='blue')\n",
    "plt.text(0,5.3, 'B3', fontsize=14, color='red')\n",
    "plt.text(0,7.3, 'B4', fontsize=14, color='orange')\n",
    "plt.text(0.65,2.3, 'N', fontsize=14, color='black')\n",
    "plt.grid(True)\n",
    "plt.show()\n"
   ]
  },
  {
   "cell_type": "markdown",
   "id": "129ee620",
   "metadata": {},
   "source": [
    "### Имитационная модель"
   ]
  },
  {
   "cell_type": "code",
   "execution_count": 26,
   "id": "07f490ce",
   "metadata": {},
   "outputs": [
    {
     "name": "stdout",
     "output_type": "stream",
     "text": [
      "Введите количество раундов1000\n"
     ]
    }
   ],
   "source": [
    "N = int(input('Введите количество раундов: '))"
   ]
  },
  {
   "cell_type": "code",
   "execution_count": 10,
   "id": "080fb117",
   "metadata": {},
   "outputs": [
    {
     "name": "stdout",
     "output_type": "stream",
     "text": [
      "[1 1 1 1 1 2 1 2 1 1]\n"
     ]
    }
   ],
   "source": [
    "import numpy as np\n",
    "from prettytable import PrettyTable\n",
    "\n",
    "probabilities_p = [2/3, 1/3]\n",
    "random_p = np.random.choice([1, 2], size=N, p=probabilities_p)\n",
    "\n",
    "# Вывод первых 10 элементов массива \n",
    "print(random_p[:10])\n"
   ]
  },
  {
   "cell_type": "code",
   "execution_count": 11,
   "id": "a9ce02be",
   "metadata": {},
   "outputs": [
    {
     "name": "stdout",
     "output_type": "stream",
     "text": [
      "[3 3 1 1 3 1 3 1 3 1]\n"
     ]
    }
   ],
   "source": [
    "probabilities_q = [1/2, 0, 1/2, 0]\n",
    "random_q = np.random.choice([1, 2, 3, 4], size=N, p=probabilities_q)\n",
    "\n",
    "# Вывод первых 10 элементов массива \n",
    "print(random_q[:10])"
   ]
  },
  {
   "cell_type": "code",
   "execution_count": 20,
   "id": "7306fd69",
   "metadata": {},
   "outputs": [],
   "source": [
    "def game_round(p, q, n=0):\n",
    "    table = PrettyTable()\n",
    "    table.field_names = [\"\", \"B1\", \"B2\", \"B3\", \"B4\"]\n",
    "\n",
    "    # Добавление данных в таблицу\n",
    "    A = [[4, 3, 2, 2], [1, 4, 5, 8]]\n",
    "    table.add_row([\"A1\"] + A[0])\n",
    "    table.add_row([\"A2\"] + A[1])\n",
    "    \n",
    "    if n != 0:\n",
    "        print(table)\n",
    "        print(f'p = {p}, q = {q}, a = {A[p-1][q-1]}')\n",
    "    \n",
    "    return A[p-1][q-1]\n",
    "                \n",
    "    "
   ]
  },
  {
   "cell_type": "code",
   "execution_count": 27,
   "id": "2bd6558b",
   "metadata": {},
   "outputs": [
    {
     "name": "stdout",
     "output_type": "stream",
     "text": [
      "Введите демонстрационный шаг4\n"
     ]
    }
   ],
   "source": [
    "n = int(input('Введите демонстрационный шаг: '))"
   ]
  },
  {
   "cell_type": "code",
   "execution_count": 28,
   "id": "f8f5c53e",
   "metadata": {},
   "outputs": [
    {
     "name": "stdout",
     "output_type": "stream",
     "text": [
      "+----+----+----+----+----+\n",
      "|    | B1 | B2 | B3 | B4 |\n",
      "+----+----+----+----+----+\n",
      "| A1 | 4  | 3  | 2  | 2  |\n",
      "| A2 | 1  | 4  | 5  | 8  |\n",
      "+----+----+----+----+----+\n",
      "p = 1, q = 1, a = 4\n"
     ]
    }
   ],
   "source": [
    "result = game_round(random_p[n-1], random_q[n-1], n)"
   ]
  },
  {
   "cell_type": "code",
   "execution_count": 29,
   "id": "b0b2e779",
   "metadata": {},
   "outputs": [],
   "source": [
    "result = []\n",
    "\n",
    "for i in range(N):\n",
    "    p = random_p[i]\n",
    "    q = random_q[i]\n",
    "        \n",
    "    a = game_round(p, q)\n",
    "    result.append(a)"
   ]
  },
  {
   "cell_type": "code",
   "execution_count": 34,
   "id": "4246e8a4",
   "metadata": {},
   "outputs": [
    {
     "name": "stdout",
     "output_type": "stream",
     "text": [
      "Цена игры: 2.98\n"
     ]
    }
   ],
   "source": [
    "print(f'Цена игры: {round(sum(result)/N, 2)}')"
   ]
  }
 ],
 "metadata": {
  "kernelspec": {
   "display_name": "Python 3 (ipykernel)",
   "language": "python",
   "name": "python3"
  },
  "language_info": {
   "codemirror_mode": {
    "name": "ipython",
    "version": 3
   },
   "file_extension": ".py",
   "mimetype": "text/x-python",
   "name": "python",
   "nbconvert_exporter": "python",
   "pygments_lexer": "ipython3",
   "version": "3.9.13"
  }
 },
 "nbformat": 4,
 "nbformat_minor": 5
}
